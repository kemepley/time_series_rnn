{
 "cells": [
  {
   "cell_type": "code",
   "execution_count": 219,
   "metadata": {},
   "outputs": [],
   "source": [
    "import pandas as pd\n",
    "import numpy as np\n",
    "\n",
    "from keras.models import Sequential\n",
    "from keras.layers import Dense\n",
    "from keras.layers import LSTM\n",
    "\n",
    "from sklearn.metrics import r2_score\n",
    "\n",
    "import matplotlib.pyplot as plt\n",
    "%matplotlib inline"
   ]
  },
  {
   "cell_type": "code",
   "execution_count": 165,
   "metadata": {},
   "outputs": [],
   "source": [
    "df = pd.read_csv('/Users/flatironschool/Downloads/MRTSMPCSM4400CUSN.csv')"
   ]
  },
  {
   "cell_type": "code",
   "execution_count": 166,
   "metadata": {},
   "outputs": [
    {
     "data": {
      "text/html": [
       "<div>\n",
       "<style scoped>\n",
       "    .dataframe tbody tr th:only-of-type {\n",
       "        vertical-align: middle;\n",
       "    }\n",
       "\n",
       "    .dataframe tbody tr th {\n",
       "        vertical-align: top;\n",
       "    }\n",
       "\n",
       "    .dataframe thead th {\n",
       "        text-align: right;\n",
       "    }\n",
       "</style>\n",
       "<table border=\"1\" class=\"dataframe\">\n",
       "  <thead>\n",
       "    <tr style=\"text-align: right;\">\n",
       "      <th></th>\n",
       "      <th>date</th>\n",
       "      <th>realtime_end</th>\n",
       "      <th>value</th>\n",
       "      <th>realtime_start</th>\n",
       "    </tr>\n",
       "  </thead>\n",
       "  <tbody>\n",
       "    <tr>\n",
       "      <th>323</th>\n",
       "      <td>2019-01-01</td>\n",
       "      <td>2019-08-14</td>\n",
       "      <td>-37.9</td>\n",
       "      <td>2019-08-14</td>\n",
       "    </tr>\n",
       "    <tr>\n",
       "      <th>324</th>\n",
       "      <td>2019-02-01</td>\n",
       "      <td>2019-08-14</td>\n",
       "      <td>-0.8</td>\n",
       "      <td>2019-08-14</td>\n",
       "    </tr>\n",
       "    <tr>\n",
       "      <th>325</th>\n",
       "      <td>2019-03-01</td>\n",
       "      <td>2019-08-14</td>\n",
       "      <td>16.9</td>\n",
       "      <td>2019-08-14</td>\n",
       "    </tr>\n",
       "    <tr>\n",
       "      <th>326</th>\n",
       "      <td>2019-04-01</td>\n",
       "      <td>2019-08-14</td>\n",
       "      <td>-3.4</td>\n",
       "      <td>2019-08-14</td>\n",
       "    </tr>\n",
       "    <tr>\n",
       "      <th>327</th>\n",
       "      <td>2019-05-01</td>\n",
       "      <td>2019-08-14</td>\n",
       "      <td>8.1</td>\n",
       "      <td>2019-08-14</td>\n",
       "    </tr>\n",
       "  </tbody>\n",
       "</table>\n",
       "</div>"
      ],
      "text/plain": [
       "           date realtime_end  value realtime_start\n",
       "323  2019-01-01   2019-08-14  -37.9     2019-08-14\n",
       "324  2019-02-01   2019-08-14   -0.8     2019-08-14\n",
       "325  2019-03-01   2019-08-14   16.9     2019-08-14\n",
       "326  2019-04-01   2019-08-14   -3.4     2019-08-14\n",
       "327  2019-05-01   2019-08-14    8.1     2019-08-14"
      ]
     },
     "execution_count": 166,
     "metadata": {},
     "output_type": "execute_result"
    }
   ],
   "source": [
    "df.tail()"
   ]
  },
  {
   "cell_type": "code",
   "execution_count": 167,
   "metadata": {},
   "outputs": [],
   "source": [
    "df.set_index('date', inplace=True)\n",
    "df.drop(['realtime_end', 'realtime_start'], axis=1, inplace=True)\n",
    "df.columns = ['value_t1']"
   ]
  },
  {
   "cell_type": "code",
   "execution_count": 226,
   "metadata": {},
   "outputs": [],
   "source": [
    "df['value_t-15'] = df.value_t1.shift(periods=15)\n",
    "df['value_t-30'] = df.value_t1.shift(periods=30)\n",
    "df['value_t-45'] = df.value_t1.shift(periods=45)\n",
    "df['value_t-60'] = df.value_t1.shift(periods=60)\n",
    "df.dropna(inplace=True)"
   ]
  },
  {
   "cell_type": "code",
   "execution_count": 227,
   "metadata": {},
   "outputs": [
    {
     "data": {
      "text/plain": [
       "(238, 5)"
      ]
     },
     "execution_count": 227,
     "metadata": {},
     "output_type": "execute_result"
    }
   ],
   "source": [
    "df.shape"
   ]
  },
  {
   "cell_type": "code",
   "execution_count": 228,
   "metadata": {},
   "outputs": [
    {
     "data": {
      "text/html": [
       "<div>\n",
       "<style scoped>\n",
       "    .dataframe tbody tr th:only-of-type {\n",
       "        vertical-align: middle;\n",
       "    }\n",
       "\n",
       "    .dataframe tbody tr th {\n",
       "        vertical-align: top;\n",
       "    }\n",
       "\n",
       "    .dataframe thead th {\n",
       "        text-align: right;\n",
       "    }\n",
       "</style>\n",
       "<table border=\"1\" class=\"dataframe\">\n",
       "  <thead>\n",
       "    <tr style=\"text-align: right;\">\n",
       "      <th></th>\n",
       "      <th>value_t1</th>\n",
       "      <th>value_t-15</th>\n",
       "      <th>value_t-30</th>\n",
       "      <th>value_t-45</th>\n",
       "      <th>value_t-60</th>\n",
       "    </tr>\n",
       "    <tr>\n",
       "      <th>date</th>\n",
       "      <th></th>\n",
       "      <th></th>\n",
       "      <th></th>\n",
       "      <th></th>\n",
       "      <th></th>\n",
       "    </tr>\n",
       "  </thead>\n",
       "  <tbody>\n",
       "    <tr>\n",
       "      <th>1999-08-01</th>\n",
       "      <td>5.9</td>\n",
       "      <td>4.8</td>\n",
       "      <td>-0.3</td>\n",
       "      <td>20.8</td>\n",
       "      <td>9.8</td>\n",
       "    </tr>\n",
       "    <tr>\n",
       "      <th>1999-09-01</th>\n",
       "      <td>-5.5</td>\n",
       "      <td>-2.6</td>\n",
       "      <td>16.4</td>\n",
       "      <td>45.0</td>\n",
       "      <td>-5.9</td>\n",
       "    </tr>\n",
       "    <tr>\n",
       "      <th>1999-10-01</th>\n",
       "      <td>3.9</td>\n",
       "      <td>0.1</td>\n",
       "      <td>-4.4</td>\n",
       "      <td>-52.8</td>\n",
       "      <td>5.4</td>\n",
       "    </tr>\n",
       "    <tr>\n",
       "      <th>1999-11-01</th>\n",
       "      <td>14.7</td>\n",
       "      <td>6.7</td>\n",
       "      <td>9.7</td>\n",
       "      <td>5.7</td>\n",
       "      <td>16.5</td>\n",
       "    </tr>\n",
       "    <tr>\n",
       "      <th>1999-12-01</th>\n",
       "      <td>49.2</td>\n",
       "      <td>-7.7</td>\n",
       "      <td>-3.6</td>\n",
       "      <td>12.0</td>\n",
       "      <td>49.8</td>\n",
       "    </tr>\n",
       "  </tbody>\n",
       "</table>\n",
       "</div>"
      ],
      "text/plain": [
       "            value_t1  value_t-15  value_t-30  value_t-45  value_t-60\n",
       "date                                                                \n",
       "1999-08-01       5.9         4.8        -0.3        20.8         9.8\n",
       "1999-09-01      -5.5        -2.6        16.4        45.0        -5.9\n",
       "1999-10-01       3.9         0.1        -4.4       -52.8         5.4\n",
       "1999-11-01      14.7         6.7         9.7         5.7        16.5\n",
       "1999-12-01      49.2        -7.7        -3.6        12.0        49.8"
      ]
     },
     "execution_count": 228,
     "metadata": {},
     "output_type": "execute_result"
    }
   ],
   "source": [
    "df.head()"
   ]
  },
  {
   "cell_type": "code",
   "execution_count": 229,
   "metadata": {},
   "outputs": [],
   "source": [
    "# variables needed to shape the data and construct the LSTM layer\n",
    "num_samples = len(df)\n",
    "num_timesteps = 4 # number of t-s added\n",
    "num_features = 1 # time is the only features\n"
   ]
  },
  {
   "cell_type": "code",
   "execution_count": 231,
   "metadata": {},
   "outputs": [],
   "source": [
    "# reshape\n",
    "X = df.iloc[:, :4].values\n",
    "y = df.iloc[:, 4].values\n",
    "\n",
    "X = X.reshape((X.shape[0], X.shape[1], num_features))\n"
   ]
  },
  {
   "cell_type": "code",
   "execution_count": 232,
   "metadata": {},
   "outputs": [
    {
     "data": {
      "text/plain": [
       "(15,)"
      ]
     },
     "execution_count": 232,
     "metadata": {},
     "output_type": "execute_result"
    }
   ],
   "source": [
    "X_train = X[:223,:,:]\n",
    "X_test = X[223:,:,:]\n",
    "y_train = y[:223]\n",
    "y_test = y[223:]\n",
    "y_test.shape"
   ]
  },
  {
   "cell_type": "code",
   "execution_count": 233,
   "metadata": {},
   "outputs": [],
   "source": [
    "model = Sequential()\n",
    "\n",
    "model.add(LSTM(100, activation='relu', input_shape=(num_timesteps, num_features)))\n",
    "model.add(Dense(1))\n",
    "model.compile(optimizer='adam', loss='mse')"
   ]
  },
  {
   "cell_type": "code",
   "execution_count": 234,
   "metadata": {},
   "outputs": [
    {
     "name": "stdout",
     "output_type": "stream",
     "text": [
      "Train on 223 samples, validate on 15 samples\n",
      "Epoch 1/50\n",
      "223/223 [==============================] - 2s 7ms/step - loss: 370.5464 - val_loss: 204.6389\n",
      "Epoch 2/50\n",
      "223/223 [==============================] - 0s 196us/step - loss: 355.7459 - val_loss: 194.2672\n",
      "Epoch 3/50\n",
      "223/223 [==============================] - 0s 186us/step - loss: 339.4655 - val_loss: 179.2984\n",
      "Epoch 4/50\n",
      "223/223 [==============================] - 0s 299us/step - loss: 305.0810 - val_loss: 153.8204\n",
      "Epoch 5/50\n",
      "223/223 [==============================] - 0s 237us/step - loss: 239.6251 - val_loss: 110.4437\n",
      "Epoch 6/50\n",
      "223/223 [==============================] - 0s 258us/step - loss: 121.5826 - val_loss: 102.9146\n",
      "Epoch 7/50\n",
      "223/223 [==============================] - 0s 208us/step - loss: 105.7187 - val_loss: 91.6886\n",
      "Epoch 8/50\n",
      "223/223 [==============================] - 0s 198us/step - loss: 79.7808 - val_loss: 63.0087\n",
      "Epoch 9/50\n",
      "223/223 [==============================] - 0s 187us/step - loss: 64.3097 - val_loss: 54.8363\n",
      "Epoch 10/50\n",
      "223/223 [==============================] - 0s 241us/step - loss: 51.0722 - val_loss: 38.8535\n",
      "Epoch 11/50\n",
      "223/223 [==============================] - 0s 205us/step - loss: 38.9455 - val_loss: 28.7590\n",
      "Epoch 12/50\n",
      "223/223 [==============================] - 0s 206us/step - loss: 31.2005 - val_loss: 22.4718\n",
      "Epoch 13/50\n",
      "223/223 [==============================] - 0s 220us/step - loss: 24.0681 - val_loss: 19.2268\n",
      "Epoch 14/50\n",
      "223/223 [==============================] - 0s 206us/step - loss: 19.5579 - val_loss: 14.5549\n",
      "Epoch 15/50\n",
      "223/223 [==============================] - 0s 178us/step - loss: 16.3481 - val_loss: 14.3130\n",
      "Epoch 16/50\n",
      "223/223 [==============================] - 0s 203us/step - loss: 14.4118 - val_loss: 13.5419\n",
      "Epoch 17/50\n",
      "223/223 [==============================] - 0s 182us/step - loss: 12.8448 - val_loss: 13.4111\n",
      "Epoch 18/50\n",
      "223/223 [==============================] - 0s 278us/step - loss: 11.7994 - val_loss: 13.5437\n",
      "Epoch 19/50\n",
      "223/223 [==============================] - 0s 263us/step - loss: 11.1581 - val_loss: 11.8890\n",
      "Epoch 20/50\n",
      "223/223 [==============================] - 0s 242us/step - loss: 10.5692 - val_loss: 11.1899\n",
      "Epoch 21/50\n",
      "223/223 [==============================] - 0s 233us/step - loss: 9.8900 - val_loss: 9.8522\n",
      "Epoch 22/50\n",
      "223/223 [==============================] - 0s 189us/step - loss: 9.4800 - val_loss: 9.4097\n",
      "Epoch 23/50\n",
      "223/223 [==============================] - 0s 219us/step - loss: 9.3979 - val_loss: 7.6010\n",
      "Epoch 24/50\n",
      "223/223 [==============================] - 0s 211us/step - loss: 8.7225 - val_loss: 8.1146\n",
      "Epoch 25/50\n",
      "223/223 [==============================] - 0s 220us/step - loss: 8.3352 - val_loss: 6.9190\n",
      "Epoch 26/50\n",
      "223/223 [==============================] - 0s 246us/step - loss: 7.9861 - val_loss: 7.3838\n",
      "Epoch 27/50\n",
      "223/223 [==============================] - 0s 236us/step - loss: 7.6714 - val_loss: 7.0119\n",
      "Epoch 28/50\n",
      "223/223 [==============================] - 0s 231us/step - loss: 7.5174 - val_loss: 7.0201\n",
      "Epoch 29/50\n",
      "223/223 [==============================] - 0s 206us/step - loss: 7.3245 - val_loss: 7.7944\n",
      "Epoch 30/50\n",
      "223/223 [==============================] - 0s 231us/step - loss: 7.9114 - val_loss: 6.3244\n",
      "Epoch 31/50\n",
      "223/223 [==============================] - 0s 253us/step - loss: 7.4083 - val_loss: 6.7875\n",
      "Epoch 32/50\n",
      "223/223 [==============================] - 0s 230us/step - loss: 6.8968 - val_loss: 5.6851\n",
      "Epoch 33/50\n",
      "223/223 [==============================] - 0s 225us/step - loss: 6.6912 - val_loss: 6.0083\n",
      "Epoch 34/50\n",
      "223/223 [==============================] - 0s 215us/step - loss: 6.4449 - val_loss: 6.2108\n",
      "Epoch 35/50\n",
      "223/223 [==============================] - 0s 209us/step - loss: 6.4378 - val_loss: 5.9268\n",
      "Epoch 36/50\n",
      "223/223 [==============================] - 0s 251us/step - loss: 6.2308 - val_loss: 6.2139\n",
      "Epoch 37/50\n",
      "223/223 [==============================] - 0s 240us/step - loss: 6.0830 - val_loss: 6.1400\n",
      "Epoch 38/50\n",
      "223/223 [==============================] - 0s 238us/step - loss: 6.1467 - val_loss: 5.8924\n",
      "Epoch 39/50\n",
      "223/223 [==============================] - 0s 214us/step - loss: 6.0316 - val_loss: 6.4223\n",
      "Epoch 40/50\n",
      "223/223 [==============================] - 0s 207us/step - loss: 6.0449 - val_loss: 5.8463\n",
      "Epoch 41/50\n",
      "223/223 [==============================] - 0s 201us/step - loss: 6.3643 - val_loss: 7.0064\n",
      "Epoch 42/50\n",
      "223/223 [==============================] - 0s 240us/step - loss: 5.9117 - val_loss: 5.7645\n",
      "Epoch 43/50\n",
      "223/223 [==============================] - 0s 261us/step - loss: 5.8324 - val_loss: 6.7620\n",
      "Epoch 44/50\n",
      "223/223 [==============================] - 0s 229us/step - loss: 5.7690 - val_loss: 5.7070\n",
      "Epoch 45/50\n",
      "223/223 [==============================] - 0s 234us/step - loss: 5.6466 - val_loss: 6.2787\n",
      "Epoch 46/50\n",
      "223/223 [==============================] - 0s 231us/step - loss: 5.6227 - val_loss: 5.8034\n",
      "Epoch 47/50\n",
      "223/223 [==============================] - 0s 214us/step - loss: 5.6745 - val_loss: 6.3153\n",
      "Epoch 48/50\n",
      "223/223 [==============================] - 0s 236us/step - loss: 5.3208 - val_loss: 6.0084\n",
      "Epoch 49/50\n",
      "223/223 [==============================] - 0s 235us/step - loss: 5.3502 - val_loss: 7.1063\n",
      "Epoch 50/50\n",
      "223/223 [==============================] - 0s 227us/step - loss: 5.7935 - val_loss: 6.0641\n"
     ]
    }
   ],
   "source": [
    "hist = model.fit(X_train, y_train,\n",
    "                 epochs=50,\n",
    "                 batch_size=50,\n",
    "                 validation_data=(X_test, y_test))"
   ]
  },
  {
   "cell_type": "code",
   "execution_count": 235,
   "metadata": {},
   "outputs": [],
   "source": [
    "y_hat = model.predict(X_test)"
   ]
  },
  {
   "cell_type": "code",
   "execution_count": 236,
   "metadata": {},
   "outputs": [
    {
     "data": {
      "text/plain": [
       "0.9709690689005673"
      ]
     },
     "execution_count": 236,
     "metadata": {},
     "output_type": "execute_result"
    }
   ],
   "source": [
    "r2_score(y_test, y_hat)"
   ]
  },
  {
   "cell_type": "code",
   "execution_count": 237,
   "metadata": {},
   "outputs": [
    {
     "data": {
      "text/plain": [
       "[<matplotlib.lines.Line2D at 0x1a4665b6d8>]"
      ]
     },
     "execution_count": 237,
     "metadata": {},
     "output_type": "execute_result"
    },
    {
     "data": {
      "image/png": "[encoded data removed]",
      "text/plain": [
       "<Figure size 432x288 with 1 Axes>"
      ]
     },
     "metadata": {
      "needs_background": "light"
     },
     "output_type": "display_data"
    }
   ],
   "source": [
    "plt.plot(y_test)\n",
    "plt.plot(y_hat)"
   ]
  },
  {
   "cell_type": "code",
   "execution_count": 238,
   "metadata": {},
   "outputs": [
    {
     "data": {
      "text/plain": [
       "[<matplotlib.lines.Line2D at 0x1a44fd42e8>]"
      ]
     },
     "execution_count": 238,
     "metadata": {},
     "output_type": "execute_result"
    },
    {
     "data": {
      "image/png": "[encoded data removed]",
      "text/plain": [
       "<Figure size 432x288 with 1 Axes>"
      ]
     },
     "metadata": {
      "needs_background": "light"
     },
     "output_type": "display_data"
    }
   ],
   "source": [
    "plt.plot(hist.history['val_loss'])\n",
    "plt.plot(hist.history['loss'])"
   ]
  },
  {
   "cell_type": "code",
   "execution_count": null,
   "metadata": {},
   "outputs": [],
   "source": []
  }
 ],
 "metadata": {
  "kernelspec": {
   "display_name": "Python 3",
   "language": "python",
   "name": "python3"
  },
  "language_info": {
   "codemirror_mode": {
    "name": "ipython",
    "version": 3
   },
   "file_extension": ".py",
   "mimetype": "text/x-python",
   "name": "python",
   "nbconvert_exporter": "python",
   "pygments_lexer": "ipython3",
   "version": "3.7.1"
  }
 },
 "nbformat": 4,
 "nbformat_minor": 2
}
